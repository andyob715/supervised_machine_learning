{
 "cells": [
  {
   "cell_type": "code",
   "execution_count": 1,
   "metadata": {},
   "outputs": [],
   "source": [
    "import pandas as pd\n",
    "from sklearn.model_selection import train_test_split\n",
    "from sklearn.linear_model import LogisticRegression\n",
    "from sklearn.preprocessing import StandardScaler, MinMaxScaler, LabelEncoder\n",
    "import numpy as np"
   ]
  },
  {
   "cell_type": "code",
   "execution_count": 4,
   "metadata": {},
   "outputs": [],
   "source": [
    "train_df = pd.read_csv('Resources/2019loans.csv')\n",
    "test_df = pd.read_csv('Resources/2020Q1loans.csv')"
   ]
  },
  {
   "cell_type": "code",
   "execution_count": 5,
   "metadata": {},
   "outputs": [
    {
     "name": "stdout",
     "output_type": "stream",
     "text": [
      "low_risk     6090\n",
      "high_risk    6090\n",
      "Name: target, dtype: int64\n",
      "high_risk    2351\n",
      "low_risk     2351\n",
      "Name: target, dtype: int64\n"
     ]
    }
   ],
   "source": [
    "#checking the data to validate non-numeric values of targets\n",
    "print(train_df[\"target\"].value_counts())\n",
    "print(test_df[\"target\"].value_counts())"
   ]
  },
  {
   "cell_type": "code",
   "execution_count": 6,
   "metadata": {},
   "outputs": [],
   "source": [
    "# Convert categorical data to numeric and separate target feature for training data\n",
    "# Drop the label to create the X data\n",
    "train_X_step = train_df.drop('target', axis=1)\n",
    "test_X_step = test_df.drop('target', axis=1)\n",
    "\n",
    "# categorical conversion\n",
    "train_X = pd.get_dummies(train_X_step)\n",
    "test_X = pd.get_dummies(test_X_step)\n",
    "\n",
    "#create the targets\n",
    "train_Y = train_df[\"target\"]\n",
    "test_Y = test_df[\"target\"]"
   ]
  },
  {
   "cell_type": "code",
   "execution_count": 7,
   "metadata": {},
   "outputs": [],
   "source": [
    "# add missing dummy variables to testing set\n",
    "for X in train_X.columns:\n",
    "    if X not in test_X.columns:\n",
    "        test_X[X]=0"
   ]
  },
  {
   "cell_type": "markdown",
   "metadata": {},
   "source": [
    "### Model Consideration\n",
    "\n",
    "Considering this data is pruned for the purposes of this data set, I would predict that the Logistic Regression would be a better fit. Random Forest would be probably better for the very large, unprocessed data set (I think?)."
   ]
  },
  {
   "cell_type": "code",
   "execution_count": 8,
   "metadata": {},
   "outputs": [
    {
     "name": "stdout",
     "output_type": "stream",
     "text": [
      "Training Data Score: 0.6532019704433497\n",
      "Testing Data Score: 0.5082943428328371\n"
     ]
    },
    {
     "name": "stderr",
     "output_type": "stream",
     "text": [
      "C:\\Users\\andre\\anaconda3\\envs\\PythonData\\lib\\site-packages\\sklearn\\linear_model\\_logistic.py:814: ConvergenceWarning: lbfgs failed to converge (status=1):\n",
      "STOP: TOTAL NO. of ITERATIONS REACHED LIMIT.\n",
      "\n",
      "Increase the number of iterations (max_iter) or scale the data as shown in:\n",
      "    https://scikit-learn.org/stable/modules/preprocessing.html\n",
      "Please also refer to the documentation for alternative solver options:\n",
      "    https://scikit-learn.org/stable/modules/linear_model.html#logistic-regression\n",
      "  n_iter_i = _check_optimize_result(\n"
     ]
    },
    {
     "data": {
      "text/html": [
       "<div>\n",
       "<style scoped>\n",
       "    .dataframe tbody tr th:only-of-type {\n",
       "        vertical-align: middle;\n",
       "    }\n",
       "\n",
       "    .dataframe tbody tr th {\n",
       "        vertical-align: top;\n",
       "    }\n",
       "\n",
       "    .dataframe thead th {\n",
       "        text-align: right;\n",
       "    }\n",
       "</style>\n",
       "<table border=\"1\" class=\"dataframe\">\n",
       "  <thead>\n",
       "    <tr style=\"text-align: right;\">\n",
       "      <th></th>\n",
       "      <th>Model</th>\n",
       "      <th>Training Score</th>\n",
       "      <th>Testing Score</th>\n",
       "    </tr>\n",
       "  </thead>\n",
       "  <tbody>\n",
       "    <tr>\n",
       "      <th>0</th>\n",
       "      <td>Non-Scaled LogisticRegression</td>\n",
       "      <td>0.653202</td>\n",
       "      <td>0.508294</td>\n",
       "    </tr>\n",
       "  </tbody>\n",
       "</table>\n",
       "</div>"
      ],
      "text/plain": [
       "                           Model  Training Score  Testing Score\n",
       "0  Non-Scaled LogisticRegression        0.653202       0.508294"
      ]
     },
     "execution_count": 8,
     "metadata": {},
     "output_type": "execute_result"
    }
   ],
   "source": [
    "# Train the Logistic Regression model on the unscaled data and print the model score\n",
    "classifier = LogisticRegression()\n",
    "\n",
    "classifier.fit(train_X, train_Y)\n",
    "\n",
    "print(f\"Training Data Score: {classifier.score(train_X, train_Y)}\")\n",
    "print(f\"Testing Data Score: {classifier.score(test_X, test_Y)}\")\n",
    "\n",
    "log_summary = pd.DataFrame([{\"Model\": \"Non-Scaled LogisticRegression\",\n",
    "                            \"Training Score\":classifier.score(train_X, train_Y),\n",
    "                            \"Testing Score\":classifier.score(test_X, test_Y),}])\n",
    "\n",
    "log_summary"
   ]
  },
  {
   "cell_type": "code",
   "execution_count": 9,
   "metadata": {},
   "outputs": [
    {
     "name": "stdout",
     "output_type": "stream",
     "text": [
      "Training Score: 1.0\n",
      "Testing Score: 0.646958740961293\n"
     ]
    }
   ],
   "source": [
    "# Train a Random Forest Classifier model and print the model score\n",
    "from sklearn.ensemble import RandomForestClassifier\n",
    "\n",
    "forest = RandomForestClassifier(random_state=1, n_estimators=500)\n",
    "\n",
    "forest.fit(train_X, train_Y)\n",
    "\n",
    "print(f'Training Score: {forest.score(train_X, train_Y)}')\n",
    "print(f'Testing Score: {forest.score(test_X, test_Y)}')\n",
    "\n",
    "for_summary = pd.DataFrame([{\"Model\": \"Non-Scaled Random Forest Classifier\",\n",
    "                            \"Training Score\":forest.score(train_X, train_Y),\n",
    "                            \"Testing Score\":forest.score(test_X, test_Y),}])"
   ]
  },
  {
   "cell_type": "code",
   "execution_count": 10,
   "metadata": {},
   "outputs": [],
   "source": [
    "# Scale the data\n",
    "scaler = StandardScaler()\n",
    "\n",
    "scaler.fit(train_X)\n",
    "\n",
    "train_X_scaled = scaler.transform(train_X)\n",
    "test_X_scaled = scaler.transform(test_X)"
   ]
  },
  {
   "cell_type": "code",
   "execution_count": 11,
   "metadata": {},
   "outputs": [
    {
     "name": "stdout",
     "output_type": "stream",
     "text": [
      "Training Data Score: 0.710919540229885\n",
      "Testing Data Score: 0.7598894087622289\n"
     ]
    },
    {
     "name": "stderr",
     "output_type": "stream",
     "text": [
      "C:\\Users\\andre\\anaconda3\\envs\\PythonData\\lib\\site-packages\\sklearn\\linear_model\\_logistic.py:814: ConvergenceWarning: lbfgs failed to converge (status=1):\n",
      "STOP: TOTAL NO. of ITERATIONS REACHED LIMIT.\n",
      "\n",
      "Increase the number of iterations (max_iter) or scale the data as shown in:\n",
      "    https://scikit-learn.org/stable/modules/preprocessing.html\n",
      "Please also refer to the documentation for alternative solver options:\n",
      "    https://scikit-learn.org/stable/modules/linear_model.html#logistic-regression\n",
      "  n_iter_i = _check_optimize_result(\n"
     ]
    },
    {
     "data": {
      "text/html": [
       "<div>\n",
       "<style scoped>\n",
       "    .dataframe tbody tr th:only-of-type {\n",
       "        vertical-align: middle;\n",
       "    }\n",
       "\n",
       "    .dataframe tbody tr th {\n",
       "        vertical-align: top;\n",
       "    }\n",
       "\n",
       "    .dataframe thead th {\n",
       "        text-align: right;\n",
       "    }\n",
       "</style>\n",
       "<table border=\"1\" class=\"dataframe\">\n",
       "  <thead>\n",
       "    <tr style=\"text-align: right;\">\n",
       "      <th></th>\n",
       "      <th>Model</th>\n",
       "      <th>Training Score</th>\n",
       "      <th>Testing Score</th>\n",
       "    </tr>\n",
       "  </thead>\n",
       "  <tbody>\n",
       "    <tr>\n",
       "      <th>0</th>\n",
       "      <td>Scaled LogisticRegression</td>\n",
       "      <td>0.71092</td>\n",
       "      <td>0.759889</td>\n",
       "    </tr>\n",
       "  </tbody>\n",
       "</table>\n",
       "</div>"
      ],
      "text/plain": [
       "                       Model  Training Score  Testing Score\n",
       "0  Scaled LogisticRegression         0.71092       0.759889"
      ]
     },
     "execution_count": 11,
     "metadata": {},
     "output_type": "execute_result"
    }
   ],
   "source": [
    "# Train the Logistic Regression model on the scaled data and print the model score\n",
    "classifier = LogisticRegression()\n",
    "\n",
    "classifier.fit(train_X_scaled, train_Y)\n",
    "\n",
    "print(f\"Training Data Score: {classifier.score(train_X_scaled, train_Y)}\")\n",
    "print(f\"Testing Data Score: {classifier.score(test_X_scaled, test_Y)}\")\n",
    "\n",
    "log_scaled_summary = pd.DataFrame([{\"Model\": \"Scaled LogisticRegression\",\n",
    "                            \"Training Score\":classifier.score(train_X_scaled, train_Y),\n",
    "                            \"Testing Score\":classifier.score(test_X_scaled, test_Y),}])\n",
    "\n",
    "log_scaled_summary"
   ]
  },
  {
   "cell_type": "code",
   "execution_count": 12,
   "metadata": {},
   "outputs": [
    {
     "name": "stdout",
     "output_type": "stream",
     "text": [
      "Training Score: 1.0\n",
      "Testing Score: 0.6480221182475542\n"
     ]
    },
    {
     "data": {
      "text/html": [
       "<div>\n",
       "<style scoped>\n",
       "    .dataframe tbody tr th:only-of-type {\n",
       "        vertical-align: middle;\n",
       "    }\n",
       "\n",
       "    .dataframe tbody tr th {\n",
       "        vertical-align: top;\n",
       "    }\n",
       "\n",
       "    .dataframe thead th {\n",
       "        text-align: right;\n",
       "    }\n",
       "</style>\n",
       "<table border=\"1\" class=\"dataframe\">\n",
       "  <thead>\n",
       "    <tr style=\"text-align: right;\">\n",
       "      <th></th>\n",
       "      <th>Model</th>\n",
       "      <th>Training Score</th>\n",
       "      <th>Testing Score</th>\n",
       "    </tr>\n",
       "  </thead>\n",
       "  <tbody>\n",
       "    <tr>\n",
       "      <th>0</th>\n",
       "      <td>Scaled Random Forest Classifier</td>\n",
       "      <td>1.0</td>\n",
       "      <td>0.648022</td>\n",
       "    </tr>\n",
       "  </tbody>\n",
       "</table>\n",
       "</div>"
      ],
      "text/plain": [
       "                             Model  Training Score  Testing Score\n",
       "0  Scaled Random Forest Classifier             1.0       0.648022"
      ]
     },
     "execution_count": 12,
     "metadata": {},
     "output_type": "execute_result"
    }
   ],
   "source": [
    "# Train a Random Forest Classifier model on the scaled data and print the model score\n",
    "\n",
    "forest = RandomForestClassifier(random_state=1, n_estimators=500)\n",
    "\n",
    "forest.fit(train_X_scaled, train_Y)\n",
    "\n",
    "print(f'Training Score: {forest.score(train_X_scaled, train_Y)}')\n",
    "print(f'Testing Score: {forest.score(test_X_scaled, test_Y)}')\n",
    "\n",
    "for_scaled_summary = pd.DataFrame([{\"Model\": \"Scaled Random Forest Classifier\",\n",
    "                            \"Training Score\":forest.score(train_X_scaled, train_Y),\n",
    "                            \"Testing Score\":forest.score(test_X_scaled, test_Y),}])\n",
    "\n",
    "for_scaled_summary"
   ]
  },
  {
   "cell_type": "code",
   "execution_count": 15,
   "metadata": {},
   "outputs": [
    {
     "data": {
      "text/html": [
       "<div>\n",
       "<style scoped>\n",
       "    .dataframe tbody tr th:only-of-type {\n",
       "        vertical-align: middle;\n",
       "    }\n",
       "\n",
       "    .dataframe tbody tr th {\n",
       "        vertical-align: top;\n",
       "    }\n",
       "\n",
       "    .dataframe thead th {\n",
       "        text-align: right;\n",
       "    }\n",
       "</style>\n",
       "<table border=\"1\" class=\"dataframe\">\n",
       "  <thead>\n",
       "    <tr style=\"text-align: right;\">\n",
       "      <th></th>\n",
       "      <th>Model</th>\n",
       "      <th>Training Score</th>\n",
       "      <th>Testing Score</th>\n",
       "    </tr>\n",
       "  </thead>\n",
       "  <tbody>\n",
       "    <tr>\n",
       "      <th>0</th>\n",
       "      <td>Non-Scaled LogisticRegression</td>\n",
       "      <td>0.653202</td>\n",
       "      <td>0.508294</td>\n",
       "    </tr>\n",
       "    <tr>\n",
       "      <th>0</th>\n",
       "      <td>Scaled LogisticRegression</td>\n",
       "      <td>0.710920</td>\n",
       "      <td>0.759889</td>\n",
       "    </tr>\n",
       "    <tr>\n",
       "      <th>0</th>\n",
       "      <td>Non-Scaled Random Forest Classifier</td>\n",
       "      <td>1.000000</td>\n",
       "      <td>0.646959</td>\n",
       "    </tr>\n",
       "    <tr>\n",
       "      <th>0</th>\n",
       "      <td>Scaled Random Forest Classifier</td>\n",
       "      <td>1.000000</td>\n",
       "      <td>0.648022</td>\n",
       "    </tr>\n",
       "  </tbody>\n",
       "</table>\n",
       "</div>"
      ],
      "text/plain": [
       "                                 Model  Training Score  Testing Score\n",
       "0        Non-Scaled LogisticRegression        0.653202       0.508294\n",
       "0            Scaled LogisticRegression        0.710920       0.759889\n",
       "0  Non-Scaled Random Forest Classifier        1.000000       0.646959\n",
       "0      Scaled Random Forest Classifier        1.000000       0.648022"
      ]
     },
     "execution_count": 15,
     "metadata": {},
     "output_type": "execute_result"
    }
   ],
   "source": [
    "#putting all the values in one table for quick comparison\n",
    "summary_df = pd.concat([log_summary,log_scaled_summary,for_summary,for_scaled_summary])\n",
    "summary_df"
   ]
  },
  {
   "cell_type": "code",
   "execution_count": null,
   "metadata": {},
   "outputs": [],
   "source": []
  }
 ],
 "metadata": {
  "kernelspec": {
   "display_name": "Python 3 (ipykernel)",
   "language": "python",
   "name": "python3"
  },
  "language_info": {
   "codemirror_mode": {
    "name": "ipython",
    "version": 3
   },
   "file_extension": ".py",
   "mimetype": "text/x-python",
   "name": "python",
   "nbconvert_exporter": "python",
   "pygments_lexer": "ipython3",
   "version": "3.8.12"
  }
 },
 "nbformat": 4,
 "nbformat_minor": 4
}
